{
 "cells": [
  {
   "cell_type": "code",
   "execution_count": 3,
   "id": "ff2619b2-cfbe-4751-865b-41f89c2173aa",
   "metadata": {},
   "outputs": [
    {
     "name": "stderr",
     "output_type": "stream",
     "text": [
      "[nltk_data] Downloading package stopwords to\n",
      "[nltk_data]     C:\\Users\\PCCV\\AppData\\Roaming\\nltk_data...\n",
      "[nltk_data]   Package stopwords is already up-to-date!\n"
     ]
    }
   ],
   "source": [
    "import pandas as pd\n",
    "import numpy as np\n",
    "import nltk\n",
    "import string\n",
    "\n",
    "nltk.download('stopwords')\n",
    "from nltk.corpus import stopwords\n"
   ]
  },
  {
   "cell_type": "code",
   "execution_count": 4,
   "id": "a60d96c5-e40b-4c8f-9df6-cd9920aba7d1",
   "metadata": {},
   "outputs": [],
   "source": [
    "# ========================\n",
    "# 📥 Load from local file\n",
    "# ========================\n",
    "df_news = pd.read_csv('news.tsv', sep='\\t', header=None)"
   ]
  },
  {
   "cell_type": "code",
   "execution_count": 5,
   "id": "71488b96-1f89-4582-bb31-23a685f99b1b",
   "metadata": {},
   "outputs": [],
   "source": [
    "# ➕ Rename columns\n",
    "df_news.columns = ['news_id', 'category', 'subcategory', 'title', 'abstract', 'url', 'title_entities', 'abstract_entities']\n"
   ]
  },
  {
   "cell_type": "code",
   "execution_count": 6,
   "id": "2ef47f09-917a-4d60-a772-65f335ef9810",
   "metadata": {},
   "outputs": [],
   "source": [
    "# ========================\n",
    "# 🧼 Preprocessing\n",
    "# ========================\n",
    "stop_words = set(stopwords.words('english'))\n",
    "\n",
    "def preprocess(text):\n",
    "    if pd.isnull(text):\n",
    "        return \"\"\n",
    "    text = text.lower()\n",
    "    text = ''.join([ch for ch in text if ch not in string.punctuation])\n",
    "    words = text.split()\n",
    "    words = [w for w in words if w not in stop_words]\n",
    "    return ' '.join(words)"
   ]
  },
  {
   "cell_type": "code",
   "execution_count": 7,
   "id": "cbbd0c81-815a-4be6-83f6-8a9b4f7c9dd3",
   "metadata": {},
   "outputs": [],
   "source": [
    "# ➕ Combine and clean\n",
    "df_news['content'] = df_news['title'].fillna('') + ' ' + df_news['abstract'].fillna('')\n",
    "df_news['clean_content'] = df_news['content'].apply(preprocess)"
   ]
  },
  {
   "cell_type": "code",
   "execution_count": 8,
   "id": "ef7810e1-e3f1-40e3-ad25-4d5916d7369c",
   "metadata": {},
   "outputs": [],
   "source": [
    "# 💾 Save cleaned version\n",
    "df_news[['news_id', 'category', 'subcategory', 'clean_content']].to_csv('clean_news.csv', index=False)"
   ]
  },
  {
   "cell_type": "code",
   "execution_count": 9,
   "id": "b55e4181-47be-4243-9223-79ef2791a200",
   "metadata": {},
   "outputs": [],
   "source": [
    "import os\n"
   ]
  },
  {
   "cell_type": "code",
   "execution_count": 10,
   "id": "cb275323-66e5-4d95-a880-f2310bb3fdc5",
   "metadata": {},
   "outputs": [
    {
     "name": "stdout",
     "output_type": "stream",
     "text": [
      "File exists: True\n"
     ]
    }
   ],
   "source": [
    "print(\"File exists:\", os.path.exists('clean_news.csv'))"
   ]
  },
  {
   "cell_type": "code",
   "execution_count": null,
   "id": "5e352ab6-83ea-4219-8aeb-0880ae9666ce",
   "metadata": {},
   "outputs": [],
   "source": []
  }
 ],
 "metadata": {
  "kernelspec": {
   "display_name": "Python 3 (ipykernel)",
   "language": "python",
   "name": "python3"
  },
  "language_info": {
   "codemirror_mode": {
    "name": "ipython",
    "version": 3
   },
   "file_extension": ".py",
   "mimetype": "text/x-python",
   "name": "python",
   "nbconvert_exporter": "python",
   "pygments_lexer": "ipython3",
   "version": "3.12.7"
  }
 },
 "nbformat": 4,
 "nbformat_minor": 5
}
