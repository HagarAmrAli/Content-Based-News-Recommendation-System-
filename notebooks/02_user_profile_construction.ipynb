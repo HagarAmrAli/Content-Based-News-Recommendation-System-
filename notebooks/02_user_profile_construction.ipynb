{
 "cells": [
  {
   "cell_type": "code",
   "execution_count": 1,
   "id": "8d1791f3-6089-42d4-b519-325b49635f2a",
   "metadata": {},
   "outputs": [],
   "source": [
    "# ================================\n",
    "# 📌 02 - User Profile Construction\n",
    "# ================================\n",
    "\n",
    "# ✅ Imports\n",
    "import pandas as pd\n",
    "import numpy as np\n",
    "from sklearn.feature_extraction.text import TfidfVectorizer\n",
    "import pickle\n"
   ]
  },
  {
   "cell_type": "code",
   "execution_count": 2,
   "id": "51b1cb0b-5c63-48c5-94d4-4474d4a68e51",
   "metadata": {},
   "outputs": [],
   "source": [
    "# ✅ Load cleaned news data\n",
    "df_news = pd.read_csv('clean_news.csv')"
   ]
  },
  {
   "cell_type": "code",
   "execution_count": 3,
   "id": "6e80e0b2-0b12-4d13-8f5a-bb4d651eb431",
   "metadata": {},
   "outputs": [
    {
     "name": "stdout",
     "output_type": "stream",
     "text": [
      "News Data Sample:\n",
      "  news_id   category      subcategory  \\\n",
      "0  N55528  lifestyle  lifestyleroyals   \n",
      "1  N19639     health       weightloss   \n",
      "2  N61837       news        newsworld   \n",
      "3  N53526     health           voices   \n",
      "4  N38324     health          medical   \n",
      "\n",
      "                                       clean_content  \n",
      "0  brands queen elizabeth prince charles prince p...  \n",
      "1  50 worst habits belly fat seemingly harmless h...  \n",
      "2  cost trumps aid freeze trenches ukraines war l...  \n",
      "3  nba wife heres affected mental health felt lik...  \n",
      "4  get rid skin tags according dermatologist seem...  \n"
     ]
    }
   ],
   "source": [
    "# Display structure\n",
    "print(\"News Data Sample:\")\n",
    "print(df_news.head())\n"
   ]
  },
  {
   "cell_type": "code",
   "execution_count": 5,
   "id": "664a6f06-3e8c-4df2-97c7-b9e8cbd8451a",
   "metadata": {},
   "outputs": [],
   "source": [
    "\n",
    "from sklearn.feature_extraction.text import TfidfVectorizer\n",
    "import pickle\n",
    "\n",
    "# Sample data\n",
    "documents = [\"This is a sample document.\", \"Another sample document for TF-IDF.\"]\n",
    "\n",
    "# Create TF-IDF model\n",
    "tfidf_vectorizer = TfidfVectorizer()\n",
    "tfidf_matrix = tfidf_vectorizer.fit_transform(documents)\n",
    "\n",
    "# Save the model\n",
    "with open('tfidf_vectorizer.pkl', 'wb') as f:\n",
    "    pickle.dump(tfidf_vectorizer, f)\n"
   ]
  },
  {
   "cell_type": "code",
   "execution_count": 6,
   "id": "e0e1f93f-abd5-4e6a-8163-aaaf9cb64f38",
   "metadata": {},
   "outputs": [],
   "source": [
    "# Re-transform all article content into vectors\n",
    "tfidf_matrix = tfidf_vectorizer.transform(df_news['clean_content'])"
   ]
  },
  {
   "cell_type": "code",
   "execution_count": 7,
   "id": "435bb0f0-72bf-4e6a-a2ce-d5135cd247a7",
   "metadata": {},
   "outputs": [],
   "source": [
    "# ===============================\n",
    "# 👤 Step 2: Simulate User Preferences\n",
    "# ===============================\n",
    "# Option 1: User selects preferred categories\n",
    "user_preferred_categories = ['sports', 'technology']  # You can modify this list"
   ]
  },
  {
   "cell_type": "code",
   "execution_count": 8,
   "id": "4445b83a-5c7c-461d-9df8-a851b66144fd",
   "metadata": {},
   "outputs": [],
   "source": [
    "# Filter articles that belong to these categories\n",
    "user_articles = df_news[df_news['category'].isin(user_preferred_categories)]"
   ]
  },
  {
   "cell_type": "code",
   "execution_count": 10,
   "id": "0d54f3da-a611-4ea5-b411-40aeae468bd0",
   "metadata": {},
   "outputs": [],
   "source": [
    "# Option 2 (Alternative): User selects article IDs (e.g., from past clicks)\n",
    "user_clicked_ids = ['N12345', 'N67890']\n",
    "user_articles = df_news[df_news['news_id'].isin(user_clicked_ids)]\n"
   ]
  },
  {
   "cell_type": "code",
   "execution_count": 11,
   "id": "af3d1fbd-cd16-4286-a816-e52de152b9af",
   "metadata": {},
   "outputs": [
    {
     "name": "stdout",
     "output_type": "stream",
     "text": [
      "\n",
      "User selected 1 preferred articles.\n"
     ]
    }
   ],
   "source": [
    "print(f\"\\nUser selected {len(user_articles)} preferred articles.\")"
   ]
  },
  {
   "cell_type": "code",
   "execution_count": 12,
   "id": "3d9828c0-1dd7-4c13-974e-60843164e5ab",
   "metadata": {},
   "outputs": [],
   "source": [
    "# ===============================\n",
    "# 📐 Step 3: Construct User Profile Vector\n",
    "# ===============================\n",
    "# Transform selected articles to TF-IDF\n",
    "user_vectors = tfidf_vectorizer.transform(user_articles['clean_content'])\n"
   ]
  },
  {
   "cell_type": "code",
   "execution_count": null,
   "id": "899dc378-e63d-4948-bd3f-4b47eafaf529",
   "metadata": {},
   "outputs": [],
   "source": []
  }
 ],
 "metadata": {
  "kernelspec": {
   "display_name": "Python 3 (ipykernel)",
   "language": "python",
   "name": "python3"
  },
  "language_info": {
   "codemirror_mode": {
    "name": "ipython",
    "version": 3
   },
   "file_extension": ".py",
   "mimetype": "text/x-python",
   "name": "python",
   "nbconvert_exporter": "python",
   "pygments_lexer": "ipython3",
   "version": "3.12.7"
  }
 },
 "nbformat": 4,
 "nbformat_minor": 5
}
