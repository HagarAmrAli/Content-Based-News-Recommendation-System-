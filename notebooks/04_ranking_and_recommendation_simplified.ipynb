{
 "cells": [
  {
   "cell_type": "markdown",
   "id": "8a082290",
   "metadata": {},
   "source": [
    "\n",
    "# 📌 04 - Ranking and Recommendation (Simplified Notebook)\n",
    "This notebook performs the full pipeline of a content-based news recommendation system:\n",
    "- Load and preprocess data\n",
    "- Extract TF-IDF features\n",
    "- Build a user profile\n",
    "- Compute cosine similarity\n",
    "- Rank and recommend top articles\n"
   ]
  },
  {
   "cell_type": "code",
   "execution_count": null,
   "id": "02d0b9fc",
   "metadata": {},
   "outputs": [],
   "source": [
    "\n",
    "# 📚 Import Required Libraries\n",
    "import pandas as pd\n",
    "import numpy as np\n",
    "from sklearn.feature_extraction.text import TfidfVectorizer\n",
    "from sklearn.metrics.pairwise import cosine_similarity\n"
   ]
  },
  {
   "cell_type": "code",
   "execution_count": null,
   "id": "0bf4f2d5",
   "metadata": {},
   "outputs": [],
   "source": [
    "\n",
    "# 📥 Load and Preprocess News Data\n",
    "news_df = pd.read_csv('../data/news.csv')\n",
    "\n",
    "# Fill missing values\n",
    "news_df['title'] = news_df['title'].fillna('')\n",
    "news_df['abstract'] = news_df['abstract'].fillna('')\n",
    "\n",
    "# Combine title and abstract\n",
    "news_df['content'] = news_df['title'] + ' ' + news_df['abstract']\n"
   ]
  },
  {
   "cell_type": "code",
   "execution_count": null,
   "id": "e9639c1a",
   "metadata": {},
   "outputs": [],
   "source": [
    "\n",
    "# 🧠 TF-IDF Vectorization\n",
    "vectorizer = TfidfVectorizer(stop_words='english', max_features=5000)\n",
    "tfidf_matrix = vectorizer.fit_transform(news_df['content'])\n"
   ]
  },
  {
   "cell_type": "code",
   "execution_count": null,
   "id": "ddf4fc65",
   "metadata": {},
   "outputs": [],
   "source": [
    "\n",
    "# 🧑‍💻 Create a User Profile Based on Interests\n",
    "user_input_text = \"\"\"\n",
    "    politics economy international government education\n",
    "\"\"\"\n",
    "\n",
    "user_profile_vector = vectorizer.transform([user_input_text])\n"
   ]
  },
  {
   "cell_type": "code",
   "execution_count": null,
   "id": "864bc16f",
   "metadata": {},
   "outputs": [],
   "source": [
    "\n",
    "# 📈 Compute Cosine Similarity\n",
    "similarity_scores = cosine_similarity(user_profile_vector, tfidf_matrix).flatten()\n",
    "news_df['similarity_score'] = similarity_scores\n"
   ]
  },
  {
   "cell_type": "code",
   "execution_count": null,
   "id": "468edd0b",
   "metadata": {},
   "outputs": [],
   "source": [
    "\n",
    "# 🏆 Rank and Display Top Recommendations\n",
    "top_n = 10\n",
    "recommendations = news_df.sort_values(by='similarity_score', ascending=False).head(top_n)\n",
    "\n",
    "print(\"✅ Top News Recommendations for You:\\n\")\n",
    "for idx, row in recommendations.iterrows():\n",
    "    print(f\"📰 Title: {row['title']}\")\n",
    "    print(f\"📂 Category: {row['category']} - {row['subcategory']}\")\n",
    "    print(f\"⭐ Similarity Score: {row['similarity_score']:.4f}\")\n",
    "    print(\"------\")\n",
    "\n",
    "# Save to file (optional)\n",
    "recommendations.to_csv('../results/sample_recommendations.csv', index=False)\n"
   ]
  }
 ],
 "metadata": {},
 "nbformat": 4,
 "nbformat_minor": 5
}
